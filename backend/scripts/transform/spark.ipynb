{
 "cells": [
  {
   "cell_type": "code",
   "execution_count": 32,
   "id": "502260ec",
   "metadata": {},
   "outputs": [],
   "source": [
    "from pyspark.sql import SparkSession\n",
    "from pathlib import Path\n",
    "\n",
    "spark = SparkSession.builder \\\n",
    "    .appName('Test') \\\n",
    "    .getOrCreate()\n",
    "\n",
    "movie = spark.read.json('movie_2025_06_24.json')\n",
    "cast = spark.read.json('cast_2025_06_24.json')\n",
    "studio = spark.read.json('studio_2025_06_24.json')"
   ]
  },
  {
   "cell_type": "code",
   "execution_count": null,
   "id": "2c923605",
   "metadata": {},
   "outputs": [
    {
     "name": "stdout",
     "output_type": "stream",
     "text": [
      "+---+--------------------+--------------------+-------+------------------+----------+----------+--------+-----+----------+----------+\n",
      "|__v|                 _id|                cast|cast_id|         character|created_at|created_by|movie_id|order|updated_at|updated_by|\n",
      "+---+--------------------+--------------------+-------+------------------+----------+----------+--------+-----+----------+----------+\n",
      "|  0|68553426159f2d740...|{8zyzci, Anel Ale...| 8zyzci|       Jaci Basson|1750414374|         1|VqUBlIGx|    0|1750414374|         1|\n",
      "|  0|68553426159f2d740...|{jYsQID, Nico Pan...| jYsQID|         JP Basson|1750414374|         1|VqUBlIGx|    1|1750414374|         1|\n",
      "|  0|68553426159f2d740...|{TzB4mj, Sandra V...| TzB4mj|    Karla Greyling|1750414374|         1|VqUBlIGx|    2|1750414374|         1|\n",
      "|  0|68553426159f2d740...|{k5PNgh, Louw Ven...| k5PNgh|  Hertjie Greyling|1750414374|         1|VqUBlIGx|    3|1750414374|         1|\n",
      "|  0|68553426159f2d740...|{bXaNOW, Diaan La...| bXaNOW|    Chadrie Snyman|1750414374|         1|VqUBlIGx|    4|1750414374|         1|\n",
      "|  0|68553426159f2d740...|{1V5f6l, Neels Va...| 1V5f6l|           Joubert|1750414374|         1|VqUBlIGx|    5|1750414374|         1|\n",
      "|  0|68553426159f2d740...|{bqTjIz, Hélène T...| bqTjIz|         Marietjie|1750414374|         1|VqUBlIGx|    6|1750414374|         1|\n",
      "|  0|68553426159f2d740...|{XakQUq, Corine d...| XakQUq|            Denise|1750414374|         1|VqUBlIGx|    7|1750414374|         1|\n",
      "|  0|685532c4159f2d740...|{YzOBcB, Arden Ch...| YzOBcB|      Rumi (voice)|1750414020|         1|50q7Hkub|    0|1750414020|         1|\n",
      "|  0|685532c4159f2d740...|{OuvqkS, May Hong...| OuvqkS|      Mira (voice)|1750414020|         1|50q7Hkub|    1|1750414020|         1|\n",
      "|  0|685532c4159f2d740...|{5dVZka, Ji-young...| 5dVZka|      Zoey (voice)|1750414020|         1|50q7Hkub|    2|1750414020|         1|\n",
      "|  0|685532c4159f2d740...|{IMEd1z, Ahn Hyo-...| IMEd1z|      Jinu (voice)|1750414020|         1|50q7Hkub|    3|1750414020|         1|\n",
      "|  0|685532c4159f2d740...|{MLqrrO, Yunjin K...| MLqrrO|    Celine (voice)|1750414020|         1|50q7Hkub|    4|1750414020|         1|\n",
      "|  0|685532c4159f2d740...|{eYLTWR, Daniel D...| eYLTWR|Healer Han (voice)|1750414020|         1|50q7Hkub|    5|1750414020|         1|\n",
      "|  0|685532c4159f2d740...|{Z7ZR1l, Ken Jeon...| Z7ZR1l|     Bobby (voice)|1750414020|         1|50q7Hkub|    6|1750414020|         1|\n",
      "|  0|685532c4159f2d740...|{jJgaUX, Lee Byun...| jJgaUX|    Gwi-Ma (voice)|1750414020|         1|50q7Hkub|    7|1750414020|         1|\n",
      "|  0|68530e9f159f2d740...|{JFdO6d, Scott Ad...| JFdO6d|       Kris Chaney|1750273695|         1|LvTv5Mxb|    0|1750273695|         1|\n",
      "|  0|68530e9f159f2d740...|{uZffIt, Marko Za...| uZffIt|          El Corvo|1750273695|         1|LvTv5Mxb|    1|1750273695|         1|\n",
      "|  0|68530e9f159f2d740...|{AuOKD9, Alanna d...| AuOKD9|             Elisa|1750273695|         1|LvTv5Mxb|    2|1750273695|         1|\n",
      "|  0|68530e9f159f2d740...|{AwM62C, Diana Ho...| AwM62C|              Alex|1750273695|         1|LvTv5Mxb|    3|1750273695|         1|\n",
      "+---+--------------------+--------------------+-------+------------------+----------+----------+--------+-----+----------+----------+\n",
      "only showing top 20 rows\n"
     ]
    }
   ],
   "source": []
  },
  {
   "cell_type": "code",
   "execution_count": null,
   "id": "48f17298",
   "metadata": {},
   "outputs": [],
   "source": []
  }
 ],
 "metadata": {
  "kernelspec": {
   "display_name": "Python 3",
   "language": "python",
   "name": "python3"
  },
  "language_info": {
   "codemirror_mode": {
    "name": "ipython",
    "version": 3
   },
   "file_extension": ".py",
   "mimetype": "text/x-python",
   "name": "python",
   "nbconvert_exporter": "python",
   "pygments_lexer": "ipython3",
   "version": "3.12.4"
  }
 },
 "nbformat": 4,
 "nbformat_minor": 5
}
