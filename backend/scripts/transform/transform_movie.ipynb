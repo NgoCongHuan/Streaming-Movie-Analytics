{
 "cells": [
  {
   "cell_type": "code",
   "execution_count": 1,
   "id": "17db0b26",
   "metadata": {},
   "outputs": [],
   "source": [
    "from pyspark.sql import SparkSession"
   ]
  },
  {
   "cell_type": "code",
   "execution_count": 30,
   "id": "ea027da4",
   "metadata": {},
   "outputs": [],
   "source": [
    "from pyspark.sql.functions import col, regexp_replace, trim"
   ]
  },
  {
   "cell_type": "code",
   "execution_count": 2,
   "id": "5898e691",
   "metadata": {},
   "outputs": [],
   "source": [
    "spark = SparkSession \\\n",
    "    .builder \\\n",
    "    .appName('Transform to table') \\\n",
    "    .getOrCreate()"
   ]
  },
  {
   "cell_type": "code",
   "execution_count": 3,
   "id": "48037ebf",
   "metadata": {},
   "outputs": [],
   "source": [
    "movie = spark.read.json('movie_2025_06_26.json')"
   ]
  },
  {
   "cell_type": "code",
   "execution_count": 5,
   "id": "e934f713",
   "metadata": {},
   "outputs": [
    {
     "name": "stdout",
     "output_type": "stream",
     "text": [
      "+--------+--------------------+--------------------+--------------------+-----------+--------------------+-------------+--------------+--------------------+--------------------+-------+------+------------+-------+--------------------+--------+--------------------+----+--------------------+----+\n",
      "|     _id|       english_title|              genres|              images|imdb_rating|      latest_episode|latest_season|origin_country|      original_title|            overview|quality|rating|release_date|runtime|                slug|  status|               title|type|       video_preview|year|\n",
      "+--------+--------------------+--------------------+--------------------+-----------+--------------------+-------------+--------------+--------------------+--------------------+-------+------+------------+-------+--------------------+--------+--------------------+----+--------------------+----+\n",
      "|VqUBlIGx|         Semi-Soeter|[{4RxsoY, Tình Cả...|{[{c5/cc/c5ccb0e2...|        4.6|{1, NULL, NULL, N...|            0|          [ZA]|         Semi-Soeter|Cặp đôi quyền lực...|    fhd|   T13|  2025-06-20|     80|   nua-ngot-nua-dang|Released|   Nửa Ngọt Nửa Đắng|   1|                NULL|2025|\n",
      "|50q7Hkub|  KPop Demon Hunters|[{2xCjTG, Hành Độ...|{[{9e/e4/9ee48d07...|        7.9|  {1, 1, NULL, NULL}|            0|          [US]|  KPop Demon Hunters|Khi các siêu sao ...|    fhd|     K|  2025-06-20|     95|    tho-san-quy-kpop|Released|    Thợ Săn Quỷ Kpop|   1|                NULL|2025|\n",
      "|LvTv5Mxb|              Diablo|[{2xCjTG, Hành Độ...|{[{60/84/60847d8f...|        5.6|{1, NULL, NULL, N...|            0|          [US]|              Diablo|Kris Chaney – kẻ ...|    fhd|   T16|  2025-06-13|    100|  diablo-dua-voi-lua|Released| Diablo: Đùa Với Lửa|   1|                NULL|2025|\n",
      "|JE5IWQCI|         Echo Valley|[{1gOywM, Chính K...|{[{84/fe/84fe9994...|        6.3|{1, NULL, NULL, N...|            0|          [US]|         Echo Valley|Kate, đang sống ẩ...|    fhd|   T16|  2025-06-13|    105|trang-trai-echo-v...|Released|Trang Trại Echo V...|   1|                NULL|2025|\n",
      "|0DLDmo7w|     Masameer Junior|[{2xCjTG, Hành Độ...|{[{d4/08/d4080058...|        5.8|{1, NULL, NULL, N...|            0|          [SA]|       مسامير جونيور|Sau một bài học k...|    fhd|     K|  2025-06-11|     71|     masameer-junior|Released|     Masameer Junior|   1|                NULL|2025|\n",
      "|d7eCN80j|           Our Times|[{Rqm5ON, Khoa Họ...|{[{c7/11/c71165a6...|        5.3|{1, NULL, NULL, N...|            0|          [MX]|    Nuestros tiempos|Bước đột phá khoa...|    fhd|   T16|  2025-06-11|     90|thoi-dai-cua-chun...|Released|Thời Đại của Chún...|   1|                NULL|2025|\n",
      "|TCpgcy43|               Broke|[{1gOywM, Chính K...|{[{50/62/50624cae...|        6.3|{1, NULL, NULL, N...|            0|          [US]|               Broke|Giữa cơn bão tuyế...|    fhd|   T16|  2025-06-10|    104|             tan-lui|Released|             Tàn Lụi|   1|                NULL|2025|\n",
      "|ah7LInQ5|         Angel's Egg|[{T6q81e, Bí Ẩn, ...|{[{fe/03/fe03a9bc...|        7.5|{1, NULL, NULL, N...|            0|          [JP]|        天使のたまご|Nội dung trong bộ...|    fhd|   T16|  2025-06-09|     71|    trung-thien-than|Released|    Trứng Thiên Thần|   1|                NULL|2025|\n",
      "|YL92FsDr|Titan: The OceanG...|[{8r9bCI, Tài Liệ...|{[{72/14/7214e596...|        6.7|{1, NULL, NULL, N...|            0|          [US]|Titan: The OceanG...|Bộ phim tài liệu ...|    fhd|   T16|  2025-06-06|    111|titan-tham-hoa-oc...|Released|Titan: Thảm Họa O...|   1|                NULL|2025|\n",
      "|43Axmuk3|               STRAW|[{1gOywM, Chính K...|{[{fd/19/fd198f29...|        6.5|{1, NULL, NULL, N...|            0|          [US]|               STRAW|Điều gì sẽ là giọ...|    fhd|   T16|  2025-06-05|    105|   giot-nuoc-tran-ly|Released|   Giọt Nước Tràn Ly|   1|                NULL|2025|\n",
      "|uWZvfPRe|Predator: Killer ...|[{2xCjTG, Hành Độ...|{[{eb/e4/ebe4a69e...|        7.5|  {1, NULL, NULL, 1}|            0|          [US]|Predator: Killer ...|Ba chiến binh huy...|    fhd|   T16|  2025-06-05|     84|quai-thu-vo-hinh-...|Released|Quái Thú Vô Hình:...|   1|                NULL|2025|\n",
      "|hxmtE0Fv|                K.O.|[{1gOywM, Chính K...|{[{ea/0c/ea0cb8b2...|        5.8|{1, NULL, NULL, N...|            0|          [FR]|                K.O.|Một cựu võ sĩ buộ...|    fhd|   T16|  2025-06-05|     84|                  ko|Released|                K.O.|   1|                NULL|2025|\n",
      "|B4SUjGhW|          Deep Cover|[{2xCjTG, Hành Độ...|{[{c7/11/c7116516...|        6.7|{1, NULL, NULL, N...|            0|          [US]|          Deep Cover|Một cô giáo dạy d...|    fhd|   T13|  2025-06-04|     99|    doi-hai-dien-sau|Released|    Đội Hài Diễn Sâu|   1|                NULL|2025|\n",
      "|GcuyDOdG|   Lost in Starlight|[{Rqm5ON, Khoa Họ...|{[{8d/b6/8db6eb8a...|        7.2|{1, NULL, NULL, N...|            0|          [KR]|      이 별에 필요한|Khi một phi hành ...|    fhd|   T13|  2025-05-30|     96|   lac-trong-anh-sao|Released|   Lạc Trong Ánh Sao|   1|                NULL|2025|\n",
      "|Fvn5cNy4|     The Heart Knows|[{1gOywM, Chính K...|{[{eb/95/eb95d880...|        5.8|{1, NULL, NULL, N...|            0|          [AR]|     Corazón delator|Cảm thấy tính các...|    fhd|   T13|  2025-05-30|     89|     con-tim-dan-loi|Released|     Con Tim Dẫn Lối|   1|                NULL|2025|\n",
      "|sXQSmfgf|      A Widow's Game|[{1gOywM, Chính K...|{[{93/76/93762de9...|        6.2|{1, NULL, NULL, N...|            0|          [ES]|      La viuda negra|Khi người đàn ông...|    fhd|   T18|  2025-05-29|     90|tro-choi-cua-mot-...|Released|Trò Chơi Của Một ...|   1|                NULL|2025|\n",
      "|Zh2cu0Uf|         Off Track 2|[{1gOywM, Chính K...|{[{4a/22/4a22d0dc...|        5.5|{1, NULL, NULL, N...|            0|          [SE]|      Ute och cyklar|Hai anh em Lisa v...|    fhd|   T16|  2025-05-23|     98|       chech-huong-2|Released|       Chệch Hướng 2|   1|                NULL|2025|\n",
      "|Qoi9VdeN|Fear Street: Prom...|[{3PP9q7, Gay Cấn...|{[{d9/0a/d90a2b72...|        5.1|{1, NULL, NULL, N...|            0|          [US]|Fear Street: Prom...|Ai sẽ được bầu là...|    fhd|   T18|  2025-05-22|     90|pho-fear-nu-hoang...|Released|Phố Fear: Nữ Hoàn...|   1|                NULL|2025|\n",
      "|2Q3bw5eK|Air Force Elite: ...|[{8r9bCI, Tài Liệ...|{[{52/ba/52ba98fd...|        7.2|{1, NULL, NULL, N...|            0|          [US]|Air Force Elite: ...|Trong bộ phim tài...|    fhd|   T16|  2025-05-22|     91|thunderbirds-phi-...|Released|Thunderbirds: Phi...|   1|                NULL|2025|\n",
      "|IbjIXu5D|Mission: Impossib...|[{2xCjTG, Hành Độ...|{[{93/1f/931fb23e...|        7.4|{1, NULL, NULL, N...|            0|          [US]|Mission: Impossib...|Cuộc đời là tất t...|    cam|   T16|  2025-05-22|    120|nhiem-vu-bat-kha-...|Released|Nhiệm Vụ Bất Khả ...|   1|https://seemymeat...|2025|\n",
      "+--------+--------------------+--------------------+--------------------+-----------+--------------------+-------------+--------------+--------------------+--------------------+-------+------+------------+-------+--------------------+--------+--------------------+----+--------------------+----+\n",
      "only showing top 20 rows\n"
     ]
    }
   ],
   "source": [
    "movie.show()"
   ]
  },
  {
   "cell_type": "code",
   "execution_count": 16,
   "id": "0e399fe7",
   "metadata": {},
   "outputs": [
    {
     "name": "stdout",
     "output_type": "stream",
     "text": [
      "+--------+--------------------+--------------------+--------------------+--------------------+--------------------+------------+-------+------+-------+----+--------+-------------+----+-----------+--------------------+\n",
      "|     _id|      original_title|       english_title|               title|                slug|            overview|release_date|quality|rating|runtime|type|  status|latest_season|year|imdb_rating|       video_preview|\n",
      "+--------+--------------------+--------------------+--------------------+--------------------+--------------------+------------+-------+------+-------+----+--------+-------------+----+-----------+--------------------+\n",
      "|VqUBlIGx|         Semi-Soeter|         Semi-Soeter|   Nửa Ngọt Nửa Đắng|   nua-ngot-nua-dang|Cặp đôi quyền lực...|  2025-06-20|    fhd|   T13|     80|   1|Released|            0|2025|        4.6|                NULL|\n",
      "|50q7Hkub|  KPop Demon Hunters|  KPop Demon Hunters|    Thợ Săn Quỷ Kpop|    tho-san-quy-kpop|Khi các siêu sao ...|  2025-06-20|    fhd|     K|     95|   1|Released|            0|2025|        7.9|                NULL|\n",
      "|LvTv5Mxb|              Diablo|              Diablo| Diablo: Đùa Với Lửa|  diablo-dua-voi-lua|Kris Chaney – kẻ ...|  2025-06-13|    fhd|   T16|    100|   1|Released|            0|2025|        5.6|                NULL|\n",
      "|JE5IWQCI|         Echo Valley|         Echo Valley|Trang Trại Echo V...|trang-trai-echo-v...|Kate, đang sống ẩ...|  2025-06-13|    fhd|   T16|    105|   1|Released|            0|2025|        6.3|                NULL|\n",
      "|0DLDmo7w|       مسامير جونيور|     Masameer Junior|     Masameer Junior|     masameer-junior|Sau một bài học k...|  2025-06-11|    fhd|     K|     71|   1|Released|            0|2025|        5.8|                NULL|\n",
      "|d7eCN80j|    Nuestros tiempos|           Our Times|Thời Đại của Chún...|thoi-dai-cua-chun...|Bước đột phá khoa...|  2025-06-11|    fhd|   T16|     90|   1|Released|            0|2025|        5.3|                NULL|\n",
      "|TCpgcy43|               Broke|               Broke|             Tàn Lụi|             tan-lui|Giữa cơn bão tuyế...|  2025-06-10|    fhd|   T16|    104|   1|Released|            0|2025|        6.3|                NULL|\n",
      "|ah7LInQ5|        天使のたまご|         Angel's Egg|    Trứng Thiên Thần|    trung-thien-than|Nội dung trong bộ...|  2025-06-09|    fhd|   T16|     71|   1|Released|            0|2025|        7.5|                NULL|\n",
      "|YL92FsDr|Titan: The OceanG...|Titan: The OceanG...|Titan: Thảm Họa O...|titan-tham-hoa-oc...|Bộ phim tài liệu ...|  2025-06-06|    fhd|   T16|    111|   1|Released|            0|2025|        6.7|                NULL|\n",
      "|43Axmuk3|               STRAW|               STRAW|   Giọt Nước Tràn Ly|   giot-nuoc-tran-ly|Điều gì sẽ là giọ...|  2025-06-05|    fhd|   T16|    105|   1|Released|            0|2025|        6.5|                NULL|\n",
      "|uWZvfPRe|Predator: Killer ...|Predator: Killer ...|Quái Thú Vô Hình:...|quai-thu-vo-hinh-...|Ba chiến binh huy...|  2025-06-05|    fhd|   T16|     84|   1|Released|            0|2025|        7.5|                NULL|\n",
      "|hxmtE0Fv|                K.O.|                K.O.|                K.O.|                  ko|Một cựu võ sĩ buộ...|  2025-06-05|    fhd|   T16|     84|   1|Released|            0|2025|        5.8|                NULL|\n",
      "|B4SUjGhW|          Deep Cover|          Deep Cover|    Đội Hài Diễn Sâu|    doi-hai-dien-sau|Một cô giáo dạy d...|  2025-06-04|    fhd|   T13|     99|   1|Released|            0|2025|        6.7|                NULL|\n",
      "|GcuyDOdG|      이 별에 필요한|   Lost in Starlight|   Lạc Trong Ánh Sao|   lac-trong-anh-sao|Khi một phi hành ...|  2025-05-30|    fhd|   T13|     96|   1|Released|            0|2025|        7.2|                NULL|\n",
      "|Fvn5cNy4|     Corazón delator|     The Heart Knows|     Con Tim Dẫn Lối|     con-tim-dan-loi|Cảm thấy tính các...|  2025-05-30|    fhd|   T13|     89|   1|Released|            0|2025|        5.8|                NULL|\n",
      "|sXQSmfgf|      La viuda negra|      A Widow's Game|Trò Chơi Của Một ...|tro-choi-cua-mot-...|Khi người đàn ông...|  2025-05-29|    fhd|   T18|     90|   1|Released|            0|2025|        6.2|                NULL|\n",
      "|Zh2cu0Uf|      Ute och cyklar|         Off Track 2|       Chệch Hướng 2|       chech-huong-2|Hai anh em Lisa v...|  2025-05-23|    fhd|   T16|     98|   1|Released|            0|2025|        5.5|                NULL|\n",
      "|Qoi9VdeN|Fear Street: Prom...|Fear Street: Prom...|Phố Fear: Nữ Hoàn...|pho-fear-nu-hoang...|Ai sẽ được bầu là...|  2025-05-22|    fhd|   T18|     90|   1|Released|            0|2025|        5.1|                NULL|\n",
      "|2Q3bw5eK|Air Force Elite: ...|Air Force Elite: ...|Thunderbirds: Phi...|thunderbirds-phi-...|Trong bộ phim tài...|  2025-05-22|    fhd|   T16|     91|   1|Released|            0|2025|        7.2|                NULL|\n",
      "|IbjIXu5D|Mission: Impossib...|Mission: Impossib...|Nhiệm Vụ Bất Khả ...|nhiem-vu-bat-kha-...|Cuộc đời là tất t...|  2025-05-22|    cam|   T16|    120|   1|Released|            0|2025|        7.4|https://seemymeat...|\n",
      "+--------+--------------------+--------------------+--------------------+--------------------+--------------------+------------+-------+------+-------+----+--------+-------------+----+-----------+--------------------+\n",
      "only showing top 20 rows\n"
     ]
    }
   ],
   "source": [
    "movie.select(\"_id\", \"original_title\", \"english_title\", \"title\", \"slug\", \"overview\", \"release_date\", \"quality\", \"rating\", \"runtime\", \"type\", \"status\", \"latest_season\", \"year\", \"imdb_rating\", \"video_preview\"\n",
    ").show()"
   ]
  },
  {
   "cell_type": "code",
   "execution_count": 34,
   "id": "53cc365f",
   "metadata": {},
   "outputs": [
    {
     "name": "stdout",
     "output_type": "stream",
     "text": [
      "+-------+\n",
      "|quality|\n",
      "+-------+\n",
      "|    cam|\n",
      "|     4k|\n",
      "|     hd|\n",
      "|    fhd|\n",
      "|       |\n",
      "|     sd|\n",
      "|   NULL|\n",
      "+-------+\n",
      "\n"
     ]
    }
   ],
   "source": [
    "movie.select('quality').distinct().show()"
   ]
  },
  {
   "cell_type": "code",
   "execution_count": 32,
   "id": "a09df6d7",
   "metadata": {},
   "outputs": [
    {
     "name": "stdout",
     "output_type": "stream",
     "text": [
      "+----------------------------------------------------------------------------------------------------------------------------------------------------------------------------------------------------------------------------------------------------------------------------------------------------------------------------------------------------------------------------------------------------------------------------------------------------------------------------------------------------------------------------------------------------------------------------------------------------------------------------------------------------------------------------------------------------------------------------------------------------------------------------------------------------------------------------------------------------------------------------------------------------------------------------------+\n",
      "|overview                                                                                                                                                                                                                                                                                                                                                                                                                                                                                                                                                                                                                                                                                                                                                                                                                                                                                                                          |\n",
      "+----------------------------------------------------------------------------------------------------------------------------------------------------------------------------------------------------------------------------------------------------------------------------------------------------------------------------------------------------------------------------------------------------------------------------------------------------------------------------------------------------------------------------------------------------------------------------------------------------------------------------------------------------------------------------------------------------------------------------------------------------------------------------------------------------------------------------------------------------------------------------------------------------------------------------------+\n",
      "|Cặp đôi quyền lực Jaci và JP bỗng rơi vào thế khó khi dự án thuyết trình mới cho một thương hiệu trẻ em buộc họ phải vào vai những ông bố bà mẹ hoàn hảo.                                                                                                                                                                                                                                                                                                                                                                                                                                                                                                                                                                                                                                                                                                                                                                         |\n",
      "|Khi các siêu sao Kpop Rumi, Mira và Zoey không bận trình diễn tại các sân vận động cháy vé, họ sử dụng sức mạnh bí mật để bảo vệ người hâm mộ khỏi những mối đe dọa siêu nhiên.                                                                                                                                                                                                                                                                                                                                                                                                                                                                                                                                                                                                                                                                                                                                                   |\n",
      "|Kris Chaney – kẻ từng vào tù ra tội – chấp nhận mạo hiểm bắt cóc con gái của một trùm ma túy Colombia nhằm thực hiện lời hứa cuối cùng với mẹ cô bé. Nhưng khi gã trùm huy động cả giới tội phạm lẫn một sát thủ điên cuồng để truy sát, Kris phải vận dụng tất cả những gì mình từng biết để sinh tồn và giữ vẹn lời hứa đã trao.                                                                                                                                                                                                                                                                                                                                                                                                                                                                                                                                                                                                |\n",
      "|Kate, đang sống ẩn dật thì bị xáo trộn khi cô con gái đầy rắc rối bất ngờ xuất hiện trong tình trạng hoảng loạn và dính đầy máu người khác. Khi Kate khám phá ra sự thật gây sốc, cô nhận ra mình có thể làm tới mức nào vì con gái.                                                                                                                                                                                                                                                                                                                                                                                                                                                                                                                                                                                                                                                                                              |\n",
      "|Sau một bài học kinh hoàng về hành vi xấu, ba cậu nhóc sáu tuổi ngỗ ngược bắt đầu chuyến hành trình hỗn loạn để làm \"việc tốt\" vĩ đại – nhưng đi đến đâu cũng gây náo loạn.                                                                                                                                                                                                                                                                                                                                                                                                                                                                                                                                                                                                                                                                                                                                                       |\n",
      "|Bước đột phá khoa học của vợ chồng Nora và Héctor cho phép họ du hành thời gian từ năm 1966 đến 2025. Trong khi Héctor chật vật thì Nora phát triển rực rỡ, nhưng với cái giá nào?                                                                                                                                                                                                                                                                                                                                                                                                                                                                                                                                                                                                                                                                                                                                                |\n",
      "|Giữa cơn bão tuyết dữ dội và những di chứng chấn thương não, một tay cưỡi ngựa già cố bám víu vào ánh hào quang xưa cũ. Nhưng khi quá khứ hiện về, anh buộc phải đối mặt với một sự thật cay đắng: đôi khi, giấc mơ không chỉ khó đạt được – mà còn có thể hủy hoại chính mình.                                                                                                                                                                                                                                                                                                                                                                                                                                                                                                                                                                                                                                                   |\n",
      "|Nội dung trong bộ Phim Trứng Thiên Thần là câu chuyện xoay quanh cuộc sống của một cô gái trẻ vô danh, cô sống một mình trong một thành phố bị bỏ rơi. Cô gái quan tâm đến một quả trứng lớn – một vật mà cô hay giấu bên dưới chiếc váy của mình, cô bảo vệ nó trong khi tìm kiếm thức ăn và nước uống bên trong quang cảnh thành phố Kiến trúc Phục Hưng Gothic/ Art Nouveau đổ nát. Cũng kể từ đó mà cô gái với quả trứng kì lạ kia như hình với bóng.  Vào thời điểm đó xuất hiện một chàng trai trông khá giống một người lính và không có tên đang quan sát một con tàu lớn có hình dạng một khối cầu từ từ lăn xuống ở trên bầu trời, hiện tại thì anh ta đang du hành trên một chiếc xe tăng lưu động. Ngay sau khi gặp cô gái anh đã phát hiện ra quả trứng kia, và kể từ đó câu chuyện xoay quanh đôi nam nữ này bắt đầu. Cùng đón xem bộ phim Trứng Thiên Thần – Angel’s Egg để khám phá những điều thú vị nhé các bạn.|\n",
      "|Bộ phim tài liệu này khám phá hành trình định mệnh năm 2023 của tàu ngầm Titan tới xác tàu Titanic và vị giám đốc điều hành đầy tham vọng của OceanGate đứng sau nỗ lực này.                                                                                                                                                                                                                                                                                                                                                                                                                                                                                                                                                                                                                                                                                                                                                      |\n",
      "|Điều gì sẽ là giọt nước tràn ly đối với cô? Một ngày tồi tệ khủng khiếp đẩy người mẹ đơn thân tần tảo nọ tới giới hạn, dẫn đến hành động liều lĩnh gây chấn động.                                                                                                                                                                                                                                                                                                                                                                                                                                                                                                                                                                                                                                                                                                                                                                 |\n",
      "|Ba chiến binh huyền thoại, ba thời đại khốc liệt, ba trận chiến khắc nghiệt định đoạt số phận: Một nữ Viking đầy kiên cường, dẫn dắt đứa con trai mình trong cuộc hành trình đẫm máu để trả thù; một ninja thời Nhật Bản phong kiến, đứng trước cuộc đối đầu quyết liệt với người anh Samurai trong cuộc chiến giành quyền lực; và một phi công dũng cảm trong Thế chiến II, bay vào bầu trời để đối mặt với một mối đe dọa siêu nhiên có thể thay đổi cục diện chiến tranh. Một hành trình ép buộc, đầy đau thương và quyết tâm, nơi mỗi chiến binh phải đương đầu với số phận và vũ khí trong tay.                                                                                                                                                                                                                                                                                                                              |\n",
      "|Một cựu võ sĩ buộc phải truy tìm con trai mất tích của đối thủ mà anh vô tình giết chết nhiều năm trước, để rồi phải đối đầu với một băng nhóm tội phạm cực kỳ tàn bạo ở Marseille.                                                                                                                                                                                                                                                                                                                                                                                                                                                                                                                                                                                                                                                                                                                                               |\n",
      "|Một cô giáo dạy diễn xuất (Bryce Dallas Howard) được cảnh sát mời hợp tác điều tra tội phạm bằng cách... sử dụng kỹ năng ứng biến sân khấu. Cô cùng hai học viên (Orlando Bloom và Nick Mohammed) đóng giả tội phạm để xâm nhập thế giới ngầm ở London. Cả nhóm phải dùng trí thông minh và kỹ năng \"diễn sâu\" để vừa thoát khỏi nguy hiểm, vừa giúp cảnh sát phá án.                                                                                                                                                                                                                                                                                                                                                                                                                                                                                                                                                             |\n",
      "|Khi một phi hành gia rời Trái đất để lên sao Hỏa, không gian bao la vô tận chia cắt đôi tình nhân nghịch duyên trong chuyện tình hoạt hình xuyên vũ trụ này.                                                                                                                                                                                                                                                                                                                                                                                                                                                                                                                                                                                                                                                                                                                                                                      |\n",
      "|Cảm thấy tính cách thay đổi sau khi được ghép tim, Manuel tìm hiểu cuộc đời của người hiến tặng rồi gặp được góa phụ Vale và cộng đồng của cô.                                                                                                                                                                                                                                                                                                                                                                                                                                                                                                                                                                                                                                                                                                                                                                                    |\n",
      "|Khi người đàn ông nọ được phát hiện đã chết, cuộc điều tra phá vỡ vỏ bọc hoàn hảo của người vợ và phơi bày cuộc sống hai mặt ẩn giấu trong bộ phim giật gân dựa trên vụ án có thật.                                                                                                                                                                                                                                                                                                                                                                                                                                                                                                                                                                                                                                                                                                                                               |\n",
      "|Hai anh em Lisa và Daniel chuẩn bị cho cuộc đua xe đạp Vätternrundan, nơi những ngã rẽ bất ngờ, tình cũ và rắc rối hôn nhân thử thách quyết tâm của họ.                                                                                                                                                                                                                                                                                                                                                                                                                                                                                                                                                                                                                                                                                                                                                                           |\n",
      "|Ai sẽ được bầu làm nữ hoàng tại dạ hội năm 1988 của Trường Shadyside? Đối với kẻ yếu thế Lori, cuộc cạnh tranh đã khốc liệt ngay cả trước khi có kẻ bắt đầu sát hại các ứng viên.                                                                                                                                                                                                                                                                                                                                                                                                                                                                                                                                                                                                                                                                                                                                                 |\n",
      "|Trong bộ phim tài liệu này, các phi công ưu tú của không quân Thunderbirds thể hiện kỹ năng, niềm tin và dũng khí phi thường trong mùa huấn luyện đầy rủi ro.                                                                                                                                                                                                                                                                                                                                                                                                                                                                                                                                                                                                                                                                                                                                                                     |\n",
      "|Cuộc đời là tất thảy những lựa chọn. Tom Cruise thủ vai Ethan Hunt trở lại trong Nhiệm Vụ: Bất Khả Thi – Nghiệp Báo Cuối Cùng.                                                                                                                                                                                                                                                                                                                                                                                                                                                                                                                                                                                                                                                                                                                                                                                                    |\n",
      "+----------------------------------------------------------------------------------------------------------------------------------------------------------------------------------------------------------------------------------------------------------------------------------------------------------------------------------------------------------------------------------------------------------------------------------------------------------------------------------------------------------------------------------------------------------------------------------------------------------------------------------------------------------------------------------------------------------------------------------------------------------------------------------------------------------------------------------------------------------------------------------------------------------------------------------+\n",
      "only showing top 20 rows\n"
     ]
    }
   ],
   "source": [
    "movie.withColumn(\n",
    "    'overview', \n",
    "    trim(regexp_replace('overview', r'[\\r\\n\\t]', ' '))\n",
    "    ).select('overview').show(truncate=False)"
   ]
  },
  {
   "cell_type": "code",
   "execution_count": null,
   "id": "0a68650f",
   "metadata": {},
   "outputs": [],
   "source": []
  }
 ],
 "metadata": {
  "kernelspec": {
   "display_name": "Python 3",
   "language": "python",
   "name": "python3"
  },
  "language_info": {
   "codemirror_mode": {
    "name": "ipython",
    "version": 3
   },
   "file_extension": ".py",
   "mimetype": "text/x-python",
   "name": "python",
   "nbconvert_exporter": "python",
   "pygments_lexer": "ipython3",
   "version": "3.12.4"
  }
 },
 "nbformat": 4,
 "nbformat_minor": 5
}
